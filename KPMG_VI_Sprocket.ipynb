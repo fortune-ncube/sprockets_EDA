{
 "cells": [
  {
   "cell_type": "code",
   "execution_count": 28,
   "id": "f1400e31-9a7d-4c43-ae46-171005f4b942",
   "metadata": {},
   "outputs": [],
   "source": [
    "# Inserting the required libraries here...\n",
    "\n",
    "import pandas as pd"
   ]
  },
  {
   "cell_type": "markdown",
   "id": "38172a29-ec35-4f6d-a60e-00f38e41a94e",
   "metadata": {},
   "source": [
    "# 1. INTRODUCTION"
   ]
  },
  {
   "cell_type": "markdown",
   "id": "ce42acd2-7551-44f4-8a46-97f917944d26",
   "metadata": {},
   "source": [
    "## 1.1 DESCRIPTION"
   ]
  },
  {
   "cell_type": "markdown",
   "id": "9213e172-04dc-459f-b2f1-ddd676a27fed",
   "metadata": {},
   "source": [
    "Sprocket Central PTY (Ltd) is an Australian company that sells bikes and related cycling accessories. The company sells bikes of various brands to customers from different social and economic statuses across Australia. The company intends to improve its marketing strategy to be applied to new customers and has since commissioned the services of a data analytics firm for solutions. Sprockets has provided KPMG's analytics team with 3 data sets of its customer database contributing to transactions in the past 3 years. The client has also provided a list of new customers from which the marketing team seeks to target the most favourable customers for the best value."
   ]
  },
  {
   "cell_type": "code",
   "execution_count": 39,
   "id": "9a865768-1225-4f48-860f-d45ce91b8ad9",
   "metadata": {},
   "outputs": [],
   "source": [
    "transact_df = pd.read_excel('KPMG_VI_New_raw_data_update_final_1.xlsx', sheet_name='Transactions', header=1)\n",
    "demographic_df = pd.read_excel('KPMG_VI_New_raw_data_update_final_1.xlsx', sheet_name='CustomerDemographic', header=1)\n",
    "address_df = pd.read_excel('KPMG_VI_New_raw_data_update_final_1.xlsx', sheet_name='CustomerAddress', header=1)"
   ]
  },
  {
   "cell_type": "code",
   "execution_count": 40,
   "id": "b636ce5f-64ed-4b97-89a5-009ec6ca5088",
   "metadata": {},
   "outputs": [
    {
     "name": "stdout",
     "output_type": "stream",
     "text": [
      "(20000, 13)\n",
      "(4000, 13)\n",
      "(3999, 6)\n"
     ]
    }
   ],
   "source": [
    "print(transact_df.shape)\n",
    "print(demographic_df.shape)\n",
    "print(address_df.shape)"
   ]
  },
  {
   "cell_type": "markdown",
   "id": "81a9582a-e6af-40ef-9f4e-073cfc07dcad",
   "metadata": {},
   "source": [
    "## 1.2 PURPOSE OF EDA"
   ]
  },
  {
   "cell_type": "markdown",
   "id": "f49db849-0bd0-426e-8c4d-efaf0f0a7a86",
   "metadata": {},
   "source": [
    "This EDA aims to gain insights into the most contributing characteristics of the existing customer database to the value gain of Sprockets. We are interested in the variables that increase profit for the client. The marketing team will then use the insights to target the potential customers that have the explored favourable characteristics.\n",
    "\n",
    "The EDA will seek to answer the following questions among many others:\n",
    "1. Do the most expensive products or brands bring more value to the company?\n",
    "2. Is there a relationship between the value and the age and/or gender of customers?\n",
    "3. Does the client gain value from high-earning customers?\n",
    "4. Is value gain related to the customer's state of residence and/or their property valuation? "
   ]
  },
  {
   "cell_type": "code",
   "execution_count": 41,
   "id": "ae9cc1af-485a-45dc-96c4-e8b83d2c1b53",
   "metadata": {},
   "outputs": [],
   "source": [
    "df = address_df"
   ]
  },
  {
   "cell_type": "code",
   "execution_count": 46,
   "id": "5e8e2c9d-0e88-4947-9ee4-51fdfa4a560a",
   "metadata": {},
   "outputs": [
    {
     "data": {
      "text/plain": [
       "<bound method NDFrame.tail of       customer_id                    address  postcode            state  \\\n",
       "0               1         060 Morning Avenue      2016  New South Wales   \n",
       "1               2        6 Meadow Vale Court      2153  New South Wales   \n",
       "2               4         0 Holy Cross Court      4211              QLD   \n",
       "3               5        17979 Del Mar Point      2448  New South Wales   \n",
       "4               6           9 Oakridge Court      3216              VIC   \n",
       "...           ...                        ...       ...              ...   \n",
       "3994         3999            1482 Hauk Trail      3064              VIC   \n",
       "3995         4000  57042 Village Green Point      4511              QLD   \n",
       "3996         4001     87 Crescent Oaks Alley      2756              NSW   \n",
       "3997         4002           8194 Lien Street      4032              QLD   \n",
       "3998         4003            320 Acker Drive      2251              NSW   \n",
       "\n",
       "        country  property_valuation  \n",
       "0     Australia                  10  \n",
       "1     Australia                  10  \n",
       "2     Australia                   9  \n",
       "3     Australia                   4  \n",
       "4     Australia                   9  \n",
       "...         ...                 ...  \n",
       "3994  Australia                   3  \n",
       "3995  Australia                   6  \n",
       "3996  Australia                  10  \n",
       "3997  Australia                   7  \n",
       "3998  Australia                   7  \n",
       "\n",
       "[3999 rows x 6 columns]>"
      ]
     },
     "execution_count": 46,
     "metadata": {},
     "output_type": "execute_result"
    }
   ],
   "source": [
    "df.tail"
   ]
  },
  {
   "cell_type": "code",
   "execution_count": 42,
   "id": "db454d82-fa47-440d-9eb3-97815fb6c5ef",
   "metadata": {},
   "outputs": [
    {
     "data": {
      "text/plain": [
       "Index(['customer_id', 'address', 'postcode', 'state', 'country',\n",
       "       'property_valuation'],\n",
       "      dtype='object')"
      ]
     },
     "execution_count": 42,
     "metadata": {},
     "output_type": "execute_result"
    }
   ],
   "source": [
    "# dataframe columns or series\n",
    "df.columns"
   ]
  },
  {
   "cell_type": "code",
   "execution_count": 43,
   "id": "9d8dc55d-4745-4b4f-ba1d-c25fdf25d710",
   "metadata": {},
   "outputs": [
    {
     "name": "stdout",
     "output_type": "stream",
     "text": [
      "<class 'pandas.core.frame.DataFrame'>\n",
      "RangeIndex: 3999 entries, 0 to 3998\n",
      "Data columns (total 6 columns):\n",
      " #   Column              Non-Null Count  Dtype \n",
      "---  ------              --------------  ----- \n",
      " 0   customer_id         3999 non-null   int64 \n",
      " 1   address             3999 non-null   object\n",
      " 2   postcode            3999 non-null   int64 \n",
      " 3   state               3999 non-null   object\n",
      " 4   country             3999 non-null   object\n",
      " 5   property_valuation  3999 non-null   int64 \n",
      "dtypes: int64(3), object(3)\n",
      "memory usage: 187.6+ KB\n",
      "None\n"
     ]
    }
   ],
   "source": [
    "# dataframe columns and the data types stored in these columns\n",
    "print(df.info())"
   ]
  },
  {
   "cell_type": "code",
   "execution_count": 44,
   "id": "c3265012-1a39-411a-b21d-57a39f8cbdbc",
   "metadata": {},
   "outputs": [
    {
     "data": {
      "text/html": [
       "<div>\n",
       "<style scoped>\n",
       "    .dataframe tbody tr th:only-of-type {\n",
       "        vertical-align: middle;\n",
       "    }\n",
       "\n",
       "    .dataframe tbody tr th {\n",
       "        vertical-align: top;\n",
       "    }\n",
       "\n",
       "    .dataframe thead th {\n",
       "        text-align: right;\n",
       "    }\n",
       "</style>\n",
       "<table border=\"1\" class=\"dataframe\">\n",
       "  <thead>\n",
       "    <tr style=\"text-align: right;\">\n",
       "      <th></th>\n",
       "      <th>customer_id</th>\n",
       "      <th>address</th>\n",
       "      <th>postcode</th>\n",
       "      <th>state</th>\n",
       "      <th>country</th>\n",
       "      <th>property_valuation</th>\n",
       "    </tr>\n",
       "  </thead>\n",
       "  <tbody>\n",
       "    <tr>\n",
       "      <th>count</th>\n",
       "      <td>3999.000000</td>\n",
       "      <td>3999</td>\n",
       "      <td>3999.000000</td>\n",
       "      <td>3999</td>\n",
       "      <td>3999</td>\n",
       "      <td>3999.000000</td>\n",
       "    </tr>\n",
       "    <tr>\n",
       "      <th>unique</th>\n",
       "      <td>NaN</td>\n",
       "      <td>3996</td>\n",
       "      <td>NaN</td>\n",
       "      <td>5</td>\n",
       "      <td>1</td>\n",
       "      <td>NaN</td>\n",
       "    </tr>\n",
       "    <tr>\n",
       "      <th>top</th>\n",
       "      <td>NaN</td>\n",
       "      <td>3 Mariners Cove Terrace</td>\n",
       "      <td>NaN</td>\n",
       "      <td>NSW</td>\n",
       "      <td>Australia</td>\n",
       "      <td>NaN</td>\n",
       "    </tr>\n",
       "    <tr>\n",
       "      <th>freq</th>\n",
       "      <td>NaN</td>\n",
       "      <td>2</td>\n",
       "      <td>NaN</td>\n",
       "      <td>2054</td>\n",
       "      <td>3999</td>\n",
       "      <td>NaN</td>\n",
       "    </tr>\n",
       "    <tr>\n",
       "      <th>mean</th>\n",
       "      <td>2003.987997</td>\n",
       "      <td>NaN</td>\n",
       "      <td>2985.755939</td>\n",
       "      <td>NaN</td>\n",
       "      <td>NaN</td>\n",
       "      <td>7.514379</td>\n",
       "    </tr>\n",
       "    <tr>\n",
       "      <th>std</th>\n",
       "      <td>1154.576912</td>\n",
       "      <td>NaN</td>\n",
       "      <td>844.878364</td>\n",
       "      <td>NaN</td>\n",
       "      <td>NaN</td>\n",
       "      <td>2.824663</td>\n",
       "    </tr>\n",
       "    <tr>\n",
       "      <th>min</th>\n",
       "      <td>1.000000</td>\n",
       "      <td>NaN</td>\n",
       "      <td>2000.000000</td>\n",
       "      <td>NaN</td>\n",
       "      <td>NaN</td>\n",
       "      <td>1.000000</td>\n",
       "    </tr>\n",
       "    <tr>\n",
       "      <th>25%</th>\n",
       "      <td>1004.500000</td>\n",
       "      <td>NaN</td>\n",
       "      <td>2200.000000</td>\n",
       "      <td>NaN</td>\n",
       "      <td>NaN</td>\n",
       "      <td>6.000000</td>\n",
       "    </tr>\n",
       "    <tr>\n",
       "      <th>50%</th>\n",
       "      <td>2004.000000</td>\n",
       "      <td>NaN</td>\n",
       "      <td>2768.000000</td>\n",
       "      <td>NaN</td>\n",
       "      <td>NaN</td>\n",
       "      <td>8.000000</td>\n",
       "    </tr>\n",
       "    <tr>\n",
       "      <th>75%</th>\n",
       "      <td>3003.500000</td>\n",
       "      <td>NaN</td>\n",
       "      <td>3750.000000</td>\n",
       "      <td>NaN</td>\n",
       "      <td>NaN</td>\n",
       "      <td>10.000000</td>\n",
       "    </tr>\n",
       "    <tr>\n",
       "      <th>max</th>\n",
       "      <td>4003.000000</td>\n",
       "      <td>NaN</td>\n",
       "      <td>4883.000000</td>\n",
       "      <td>NaN</td>\n",
       "      <td>NaN</td>\n",
       "      <td>12.000000</td>\n",
       "    </tr>\n",
       "  </tbody>\n",
       "</table>\n",
       "</div>"
      ],
      "text/plain": [
       "        customer_id                  address     postcode state    country  \\\n",
       "count   3999.000000                     3999  3999.000000  3999       3999   \n",
       "unique          NaN                     3996          NaN     5          1   \n",
       "top             NaN  3 Mariners Cove Terrace          NaN   NSW  Australia   \n",
       "freq            NaN                        2          NaN  2054       3999   \n",
       "mean    2003.987997                      NaN  2985.755939   NaN        NaN   \n",
       "std     1154.576912                      NaN   844.878364   NaN        NaN   \n",
       "min        1.000000                      NaN  2000.000000   NaN        NaN   \n",
       "25%     1004.500000                      NaN  2200.000000   NaN        NaN   \n",
       "50%     2004.000000                      NaN  2768.000000   NaN        NaN   \n",
       "75%     3003.500000                      NaN  3750.000000   NaN        NaN   \n",
       "max     4003.000000                      NaN  4883.000000   NaN        NaN   \n",
       "\n",
       "        property_valuation  \n",
       "count          3999.000000  \n",
       "unique                 NaN  \n",
       "top                    NaN  \n",
       "freq                   NaN  \n",
       "mean              7.514379  \n",
       "std               2.824663  \n",
       "min               1.000000  \n",
       "25%               6.000000  \n",
       "50%               8.000000  \n",
       "75%              10.000000  \n",
       "max              12.000000  "
      ]
     },
     "execution_count": 44,
     "metadata": {},
     "output_type": "execute_result"
    }
   ],
   "source": [
    "# A statistical descriptive overview of the data \n",
    "df.describe(include = 'all')"
   ]
  },
  {
   "cell_type": "code",
   "execution_count": 45,
   "id": "0b8b8697-7c5d-472a-9766-cd85e708db71",
   "metadata": {},
   "outputs": [
    {
     "data": {
      "text/plain": [
       "3999"
      ]
     },
     "execution_count": 45,
     "metadata": {},
     "output_type": "execute_result"
    }
   ],
   "source": [
    "df['customer_id'].nunique()"
   ]
  },
  {
   "cell_type": "code",
   "execution_count": 38,
   "id": "67ff9e3b-8031-4950-b170-99ed8adcb7db",
   "metadata": {},
   "outputs": [
    {
     "data": {
      "text/plain": [
       "array(['\"\\'', \"<script>alert('hi')</script>\",\n",
       "       datetime.datetime(2018, 2, 1, 0, 0),\n",
       "       '() { _; } >_[$($())] { touch /tmp/blns.shellshock2.fail; }',\n",
       "       'NIL', 'ðµ ð ð ð', 'â°â´âµâââ', '(â¯Â°â¡Â°ï¼â¯ï¸µ â»ââ»)', '0/0',\n",
       "       'ð©ð½', 'ÅâÂ´Â®â\\xa0Â¥Â¨ËÃ¸Ïââ', 'nil', -100, 'â°â´âµ', 'ð',\n",
       "       1000000000000000049861653971908893017010268485438462151574892930611988399099305815384459015356416,\n",
       "       'ï¾ï½¥â¿ã¾â²(ï½¡ââ¿âï½¡)â±â¿ï½¥ï¾', 'Î©âÃ§ââ«ËÂµâ¤â¥Ã·',\n",
       "       'ÅâÂ´â°ËÃÂ¨ËÃâââ', 'ï¼ï¼ï¼',\n",
       "       '../../../../../../../../../../../etc/hosts',\n",
       "       '×Ö¸×Ö°×ªÖ¸×testØ§ÙØµÙØ\\xadØ§Øª Ø§ÙØªÙØ\\xadÙÙ', '<>?:\"{}|_+',\n",
       "       '\\'\\'\\'\\'\"', \",./;'[]\\\\-=\",\n",
       "       '() { 0; }; touch /tmp/blns.shellshock1.fail;',\n",
       "       'ì¬íê³¼íì ì´íì°êµ¬ì', 'testâ\\xa0testâ«',\n",
       "       '0ï¸â£ 1ï¸â£ 2ï¸â£ 3ï¸â£ 4ï¸â£ 5ï¸â£ 6ï¸â£ 7ï¸â£ 8ï¸â£ 9ï¸â£ ð',\n",
       "       nan, '!@#$%^&*()', \"'\",\n",
       "       'Ì¦HÍÌ¬Ì¤ÌÌ¤eÍ ÍÌÌ¥ÌÌ»ÍÌwÌhÌÌ¯ÍoÌÍÌÍÌ±Ì® ÒÌºÌÌÌÍWÌ·Ì¼Ì\\xadaÌºÌªÍiÌ¨ÍÍÌ\\xadÍÌ¯ÌtÌ¶Ì¼Ì®sÌÌÍÍ Ì\\xa0Ì«Ì\\xa0BÌ»ÍÍÍÍÌ³eÌµhÌµÌ¬ÍÌ«ÍiÌÌ¹ÍÌ³Ì³Ì®ÍÌ«nÍdÌ´ÌªÌÌ ÍÌ°ÍÌ©ÍÍÍÌ²TÍ¢ÍÌ¼ÍÌªhÍÍÌ®Ì»eÌ¬ÌÍÌ Ì¤Ì¹ÌWÍÍÍÌÌÍÍaÍÍÍÌ¹Ì¼',\n",
       "       '../../../../../../../../../../../etc/passwd%00', 'åè£½æ¼¢èª',\n",
       "       '`ââ¬â¹âºï¬ï¬â¡Â°Â·ââÂ±', 'ãã¼ãã£ã¼ã¸è¡ããªãã', 1, -0.5,\n",
       "       'ZÌ®ÌÍÌ\\xa0ÍÍAÌ¥ÌÌÍÌ»ÌLÌ£ÍÍÌ¯Ì¹ÌÍGÌ»OÌ\\xadÌÌ®', 'ã', 100,\n",
       "       '1;DROP TABLE users', -1, 'á', '(ï¾à²¥çà²¥ï¼ï¾ï»¿ â»ââ»', '00ËÆ$-',\n",
       "       '1/0', 'ï½ï½¨(Â´âï½â©', \"<svg><script>0<1>alert('XSS')</script>\",\n",
       "       'âââ', 'ã»(ï¿£âï¿£)ã»:*:', ',ãã»:*:ã»ãâ( â» Ï â» )ãã»:*:ã»ãâ',\n",
       "       'â¢', 'ç°ä¸\\xadããã«ããã¦ä¸ãã', '__ï¾(,_,*)', 'Ù¡Ù¢Ù£',\n",
       "       'Ø«Ù ÙÙØ³ Ø³ÙØ·Øª ÙØ¨Ø§ÙØªØ\\xadØ¯ÙØ¯Ø, Ø¬Ø²ÙØ±ØªÙ Ø¨Ø§Ø³ØªØ®Ø¯Ø§Ù Ø£Ù Ø¯ÙÙ. Ø¥Ø° ÙÙØ§Ø Ø§ÙØ³ØªØ§Ø± ÙØªÙØµÙØ¨ ÙØ§Ù. Ø£ÙÙÙ Ø§ÙØ·Ø§ÙÙØ§Ø Ø¨Ø±ÙØ·Ø§ÙÙØ§-ÙØ±ÙØ³Ø§ ÙØ¯ Ø£Ø®Ø°. Ø³ÙÙÙØ§ÙØ Ø¥ØªÙØ§ÙÙØ© Ø¨ÙÙ ÙØ§, ÙØ°ÙØ± Ø',\n",
       "       'ð¾ ð ð ð ð ð ð ð§', \"<img src=x onerror=alert('hi') />\",\n",
       "       'ã½à¼¼àºÙÍàºà¼½ï¾ ã½à¼¼àºÙÍàºà¼½ï¾', 'âð¿ ðªð¿ ðð¿ ðð¿ ðð¿ ðð¿',\n",
       "       'TÌÌ\\xadÌºÌºoÍ Ì·iÌ²Ì¬ÍÌªÍnÌÌÍvÍÌÌÌÌ¦oÌ¶ÌÌ°Ì\\xa0keÍÍÌ®ÌºÌªÌ¹Ì±Ì¤ ÌtÍÌÍÌ³Ì£Ì»ÌªhÌ¼ÍÌ²Ì¦Ì³ÌÌ²eÍÌ£Ì°Ì¦Ì¬Í Ì¢Ì¼Ì»Ì±ÌhÍÍÍÍÌÌ£Ì²iÌ¦Ì²Ì£Ì°Ì¤vÌ»ÍeÌºÌ\\xadÌ³ÌªÌ°-mÌ¢iÍnÌÌºÌÌ²Ì¯Ì°dÌµÌ¼ÌÍÌ©Ì¼ÌÌ³ ÌÌ¥Ì±Ì³Ì\\xadrÌÌÌeÍpÍ\\xa0rÌ¼ÌÌ»Ì\\xadÌeÍÌºÌ\\xa0Ì£sÌ',\n",
       "       'ÃÃÃÃËÃÃï£¿ÃÃÃâ', '(ï½¡â â âï½¡)', 'é¨è½æ\\xa0¼',\n",
       "       \"ËÉnbá´lÉ ÉuÆÉÉ¯ ÇÉ¹olop ÊÇ ÇÉ¹oqÉl Ên Êunpá´pá´Éuá´ É¹odÉ¯ÇÊ poÉ¯sná´Ç op pÇs 'Êá´lÇ Æuá´Ésá´dá´pÉ É¹nÊÇÊÉÇsuoÉ 'ÊÇÉ¯É Êá´s É¹olop É¯nsdá´ É¯ÇÉ¹oË¥\",\n",
       "       'á\\xa0',\n",
       "       '×Ö¼Ö°×¨Öµ××©×Ö´××ª, ×Ö¼Ö¸×¨Ö¸× ×Ö±×Ö¹×Ö´××, ×Öµ×ª ×Ö·×©Ö¼×Ö¸×Ö·×Ö´×, ×Ö°×Öµ×ª ×Ö¸×Ö¸×¨Ö¶×¥',\n",
       "       'Â¡â¢Â£Â¢âÂ§Â¶â¢ÂªÂºââ\\xa0',\n",
       "       '/dev/null; touch /tmp/blns.fail ; echo', \"1'; DROP TABLE users--\",\n",
       "       'ð¾ ð ð ð ð ð ð ð',\n",
       "       'Ì¡ÍÍÌIÍÌÌÌ¦nÍÍÍvÌ®Ì«okÌ²Ì«ÌÍiÌÍÌ\\xadÌ¹Ì\\xa0ÌnÌ¡Ì»Ì®Ì£ÌºgÌ²ÍÍÌ\\xadÍÌ¬Í Ì°tÍÌ¦hÌÌ²eÌ¢Ì¤ ÍÌ¬Ì²ÍfÌ´ÌÍÌ£eÍÍeÌ£Ì¥Ì©lÍÍÍiÍ\\xa0ÍÍÌ¦nÍÍÌÍÌ³Ì®gÍ Ì¨oÍ¡ÍÌªfÌÌ£Ì¬ ÌÌÍÌÍÌ®cÒÍÌ«ÍÍÍÍÍhÌµÌ¤Ì£ÍÍaÍÌÌ¼ÍÍoÌ¼Ì£Ì¥sÍ¢Ì±ÍÌºÌÌ¦Ì».ÌÌ',\n",
       "       'â', 'Â¸ËÃâÄ±ËÃÂ¯ËÂ¿', 'ì¸ëë°í\\xa0ë¥´',\n",
       "       'ÌÌºÍÌ¹Ì¯ÍTÌ±Ì¤ÍÌ¥ÍÍhÍÌ²eÍÍÌ¼ÌÌÌ¼Ì£Í ÍÌÌ±Ì\\xa0ÍÍÍNÍ\\xa0ÍeÌÌ±zÌÌÌÌºÍpÌ¤ÌºÌ¹ÍÌ¯ÍeÍÌ\\xa0Ì»Ì\\xa0rÌ¨Ì¤ÍÌºÌÍÌÌdÍÌ\\xa0ÌÌ\\xadÌ¬ÌiÌ¦ÍÌ©ÍÍÌ¤aÌ\\xa0ÌÌ¬ÍÌnÍÍ Ì»ÌÌ°ÍÍhÌµÍiÌ³ÌvÌ¢ÍeÍÌ\\xadÍ-ÒÌ\\xadÌ©Ì¼ÍmÌ¤Ì\\xadÌ«iÍÍÌÌ¦nÌÍdÌ£Ì ÍÌ¯Ì²ÍoÌ¨ÌÌ¯Ì°Ì²',\n",
       "       0, 'â©testâ©', 'â£', 'Ã¥ÃâÆÂ©ËâËÂ¬â¦Ã¦',\n",
       "       'ç¤¾æç§å\\xad¸é¢èªå\\xad¸ç\\xa0ç©¶æ', 'âªâªtestâª', 'ï»¿',\n",
       "       'â¤ï¸ ð ð ð ð ð ð ð ð ð ð ð ð ð ð', 'â«testâ«', 'â¦testâ§',\n",
       "       '\\'\"\\'\\'\\'\\'\"', 'â¡', 'ð\\xa0ð\\xa0±ð\\xa0¹ð\\xa0±ð\\xa0±¸ð\\xa0²ð\\xa0³'],\n",
       "      dtype=object)"
      ]
     },
     "execution_count": 38,
     "metadata": {},
     "output_type": "execute_result"
    }
   ],
   "source": [
    "df['default'].unique()"
   ]
  },
  {
   "cell_type": "code",
   "execution_count": null,
   "id": "ae55e36a-0f22-484b-a6fc-24bc121400cf",
   "metadata": {},
   "outputs": [],
   "source": []
  }
 ],
 "metadata": {
  "kernelspec": {
   "display_name": "Python 3 (ipykernel)",
   "language": "python",
   "name": "python3"
  },
  "language_info": {
   "codemirror_mode": {
    "name": "ipython",
    "version": 3
   },
   "file_extension": ".py",
   "mimetype": "text/x-python",
   "name": "python",
   "nbconvert_exporter": "python",
   "pygments_lexer": "ipython3",
   "version": "3.12.1"
  }
 },
 "nbformat": 4,
 "nbformat_minor": 5
}
